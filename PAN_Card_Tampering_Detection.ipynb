{
 "cells": [
  {
   "cell_type": "markdown",
   "metadata": {},
   "source": [
    "The purpose of the project is to detect tampering of PAN card using computer vision. This project will help different organization in detecting whether the id card, i.e. PAN card provided by their employees or customers or anyone is original or not.\n",
    "\n",
    "For this project, structural similarity of original PAN card and the PAN card uploaded by the user will be calculated. "
   ]
  },
  {
   "cell_type": "code",
   "execution_count": 9,
   "metadata": {},
   "outputs": [],
   "source": [
    "# importing necessary packages\n",
    "import os # for making directories\n",
    "from skimage.metrics import structural_similarity  # will help us finding the structural similarity of the cards\n",
    "import imutils  # will help us grabbing the contours from the images\n",
    "import cv2 # for all image processing requirements\n",
    "from PIL import Image # for downloading and visualizing images we import\n",
    "import requests # used to fetch data from urls"
   ]
  },
  {
   "cell_type": "code",
   "execution_count": 10,
   "metadata": {},
   "outputs": [],
   "source": [
    "os.makedirs('pan_card_tempering/image', exist_ok=True)"
   ]
  },
  {
   "cell_type": "code",
   "execution_count": 11,
   "metadata": {},
   "outputs": [],
   "source": [
    "# Open Image and Display\n",
    "original = Image.open(requests.get('https://www.thestatesman.com/wp-content/uploads/2019/07/pan-card.jpg', stream = True).raw)\n",
    "tampered = Image.open(requests.get('https://assets1.cleartax-cdn.com/s/img/20170526124335/Pan4.png', stream = True).raw)"
   ]
  },
  {
   "cell_type": "code",
   "execution_count": 12,
   "metadata": {},
   "outputs": [
    {
     "name": "stdout",
     "output_type": "stream",
     "text": [
      "Original Image Format :  JPEG\n",
      "Tampered Image Format :  PNG\n",
      "Original Image Size :  (1200, 800)\n",
      "Tampered Image Size :  (282, 179)\n"
     ]
    }
   ],
   "source": [
    "# The file format of the source file\n",
    "\n",
    "print(\"Original Image Format : \", original.format)\n",
    "print(\"Tampered Image Format : \", tampered.format)\n",
    "\n",
    "# Image size, in pixels (width, height)\n",
    "\n",
    "print(\"Original Image Size : \", original.size)\n",
    "print(\"Tampered Image Size : \", tampered.size)"
   ]
  },
  {
   "cell_type": "code",
   "execution_count": 13,
   "metadata": {},
   "outputs": [
    {
     "name": "stdout",
     "output_type": "stream",
     "text": [
      "(250, 160)\n",
      "(250, 160)\n"
     ]
    }
   ],
   "source": [
    "# Resizing Images\n",
    "\n",
    "original = original.resize((250,160))\n",
    "print(original.size)\n",
    "tampered = tampered.resize((250,160))\n",
    "print(tampered.size)"
   ]
  }
 ],
 "metadata": {
  "kernelspec": {
   "display_name": "Python 3",
   "language": "python",
   "name": "python3"
  },
  "language_info": {
   "codemirror_mode": {
    "name": "ipython",
    "version": 3
   },
   "file_extension": ".py",
   "mimetype": "text/x-python",
   "name": "python",
   "nbconvert_exporter": "python",
   "pygments_lexer": "ipython3",
   "version": "3.11.9"
  }
 },
 "nbformat": 4,
 "nbformat_minor": 2
}
